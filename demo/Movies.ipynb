{
 "cells": [
  {
   "cell_type": "code",
   "execution_count": 1,
   "metadata": {},
   "outputs": [],
   "source": [
    "import altair as alt\n",
    "import pandas as pd\n",
    "import numpy as np\n",
    "\n",
    "import utils"
   ]
  },
  {
   "cell_type": "code",
   "execution_count": null,
   "metadata": {},
   "outputs": [],
   "source": [
    "# Source: https://www.kaggle.com/tmdb/tmdb-movie-metadata#tmdb_5000_movies.csv\n",
    "df = utils.read_movie_data()\n",
    "df.head()"
   ]
  },
  {
   "cell_type": "markdown",
   "metadata": {},
   "source": [
    "# What's the relationship between vote_count and vote_average?"
   ]
  },
  {
   "cell_type": "code",
   "execution_count": null,
   "metadata": {},
   "outputs": [],
   "source": [
    "relationship = alt.Chart(df).mark_point().encode(\n",
    "    x='vote_count',\n",
    "    y='vote_average'\n",
    ")\n",
    "# interactive\n",
    "relationship"
   ]
  },
  {
   "cell_type": "markdown",
   "metadata": {},
   "source": [
    "# How many movies were made per genre?"
   ]
  },
  {
   "cell_type": "code",
   "execution_count": null,
   "metadata": {},
   "outputs": [],
   "source": [
    "genre = alt.Chart(df).mark_bar().encode(\n",
    "    x='genre',\n",
    "    y='count()'\n",
    ")\n",
    "genre"
   ]
  },
  {
   "cell_type": "markdown",
   "metadata": {},
   "source": [
    "# What kind of budget do different genres have?"
   ]
  },
  {
   "cell_type": "code",
   "execution_count": null,
   "metadata": {},
   "outputs": [],
   "source": [
    "genre_budget = alt.Chart(df).mark_bar().encode(\n",
    "    x='genre',\n",
    "    y='mean(budget)'\n",
    ")\n",
    "genre_budget"
   ]
  },
  {
   "cell_type": "code",
   "execution_count": null,
   "metadata": {},
   "outputs": [],
   "source": [
    "genre_budget | genre"
   ]
  },
  {
   "cell_type": "markdown",
   "metadata": {},
   "source": [
    "# How are people voting?"
   ]
  },
  {
   "cell_type": "code",
   "execution_count": null,
   "metadata": {},
   "outputs": [],
   "source": [
    "votes = alt.Chart(df).mark_bar().encode(\n",
    "    x=alt.X('vote_average', bin=True),\n",
    "    y='count()'\n",
    ")\n",
    "votes"
   ]
  },
  {
   "cell_type": "code",
   "execution_count": null,
   "metadata": {},
   "outputs": [],
   "source": [
    "votes.encode(column='genre')"
   ]
  },
  {
   "cell_type": "code",
   "execution_count": null,
   "metadata": {},
   "outputs": [],
   "source": [
    "alt.Chart(df).mark_bar().encode(\n",
    "    y='mean(vote_average)',\n",
    "    x='genre'\n",
    ")"
   ]
  },
  {
   "cell_type": "markdown",
   "metadata": {},
   "source": [
    "# Let's compare Action vs Drama specifically"
   ]
  },
  {
   "cell_type": "code",
   "execution_count": null,
   "metadata": {},
   "outputs": [],
   "source": [
    "genre_hist = alt.Chart(df).mark_bar().encode(\n",
    "    x=alt.X('vote_average', bin=True, title='Average Vote'),\n",
    "    y='count()',\n",
    "    opacity=alt.value(0.7))\n",
    "\n",
    "action_genre = genre_hist.transform_filter('datum.genre == \"Action\"')\n",
    "drama_genre = genre_hist.encode(color=alt.value('firebrick')).transform_filter('datum.genre == \"Drama\"')\n",
    "action_genre + drama_genre"
   ]
  },
  {
   "cell_type": "markdown",
   "metadata": {},
   "source": [
    "# Popularity vs Budget"
   ]
  },
  {
   "cell_type": "code",
   "execution_count": null,
   "metadata": {},
   "outputs": [],
   "source": [
    "selection = alt.selection_interval(empty='all')\n",
    "\n",
    "base = alt.Chart(df).mark_circle().encode(\n",
    "    x='vote_average',\n",
    "    tooltip='title',\n",
    "    color=alt.condition(selection, alt.value('firebrick'), alt.value('lightgray'))\n",
    ").properties(\n",
    "    selection=selection\n",
    ")\n",
    "\n",
    "base.encode(y='budget') | base.encode(y='revenue')"
   ]
  },
  {
   "cell_type": "markdown",
   "metadata": {},
   "source": [
    "# Budget vs Revenue - Does a large budget equal large revenue?"
   ]
  },
  {
   "cell_type": "code",
   "execution_count": null,
   "metadata": {},
   "outputs": [],
   "source": [
    "budget_revenue_base = alt.Chart(df).mark_point().encode(\n",
    "    x='budget',\n",
    "    y='revenue',\n",
    ")\n",
    "\n",
    "vote_average = budget_revenue_base.encode(\n",
    "    size=alt.Size('vote_average', bin=True, title='Average Vote'),\n",
    ")\n",
    "\n",
    "title_text = budget_revenue_base.mark_text(fontSize=8, dx=10, align='left', baseline='middle').encode(\n",
    "    text='title',\n",
    "    color=alt.value('black'),\n",
    ")\n",
    "\n",
    "(vote_average + title_text).interactive()"
   ]
  },
  {
   "cell_type": "markdown",
   "metadata": {},
   "source": [
    "# Let's build a report!"
   ]
  },
  {
   "cell_type": "code",
   "execution_count": null,
   "metadata": {},
   "outputs": [],
   "source": [
    "selection = alt.selection_multi(fields=['genre'])\n",
    "\n",
    "\n",
    "vote_average = alt.Chart(df).mark_bar().encode(\n",
    "    y=alt.Y('release_year:O', title='Release Year'),\n",
    "    x=alt.X('mean(vote_average)', title='Mean Vote')\n",
    ").transform_filter(\n",
    "    selection\n",
    ")\n",
    "\n",
    "profit = alt.Chart(df).mark_bar().encode(\n",
    "    y=alt.Y('release_year:O', title='Release Year'),\n",
    "    x=alt.X('mean(profits):Q', title='Mean Profit')\n",
    ").transform_calculate(\n",
    "    profits='datum.revenue - datum.budget'\n",
    ").transform_filter(\n",
    "    selection\n",
    ")\n",
    "\n",
    "releases = alt.Chart(df).mark_bar().encode(\n",
    "    x=alt.X('genre', title='Genre'),\n",
    "    y=alt.Y('count()', title='Number of movies'),\n",
    "    opacity=alt.condition(selection, alt.value(1.0), alt.value(0.1))\n",
    ").properties(\n",
    "    height=200,\n",
    "    width=860,\n",
    "    selection=selection\n",
    ")\n",
    "\n",
    "our_report = alt.vconcat(alt.hconcat(profit, vote_average), \n",
    "                         releases)\n",
    "our_report"
   ]
  },
  {
   "cell_type": "code",
   "execution_count": null,
   "metadata": {},
   "outputs": [],
   "source": [
    "from jinja2 import FileSystemLoader, Environment"
   ]
  },
  {
   "cell_type": "code",
   "execution_count": null,
   "metadata": {},
   "outputs": [],
   "source": [
    "fs = FileSystemLoader('./templates/')\n",
    "env = Environment(loader=fs)"
   ]
  },
  {
   "cell_type": "code",
   "execution_count": null,
   "metadata": {},
   "outputs": [],
   "source": [
    "comments = \"\"\"\n",
    "Drama is the most populous, but profits have been swingy. Critical acclaim does not seem to correspond to the profits made.<br>\n",
    "Comedies have seen a steady increase in profits over the years - it is also the third most populous genre among the movies analysed.<br>\n",
    "Action movies have generated large profits and seem to consistently be crowd pleasers\n",
    "\"\"\""
   ]
  },
  {
   "cell_type": "code",
   "execution_count": null,
   "metadata": {},
   "outputs": [],
   "source": [
    "chart_title = \"Comparing Profits and Votes per Genre\""
   ]
  },
  {
   "cell_type": "code",
   "execution_count": null,
   "metadata": {},
   "outputs": [],
   "source": [
    "template = env.get_template('template.html')\n",
    "\n",
    "with open('output.html', 'w') as f:\n",
    "    chart_data = our_report.to_json()\n",
    "    f.write(template.render(chart=chart_data, comments=comments, chart_title=chart_title))"
   ]
  }
 ],
 "metadata": {
  "kernelspec": {
   "display_name": "Python 3",
   "language": "python",
   "name": "python3"
  },
  "language_info": {
   "codemirror_mode": {
    "name": "ipython",
    "version": 3
   },
   "file_extension": ".py",
   "mimetype": "text/x-python",
   "name": "python",
   "nbconvert_exporter": "python",
   "pygments_lexer": "ipython3",
   "version": "3.6.5"
  }
 },
 "nbformat": 4,
 "nbformat_minor": 2
}
